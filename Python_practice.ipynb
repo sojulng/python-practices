{
  "cells": [
    {
      "cell_type": "markdown",
      "id": "ff0a8e98",
      "metadata": {
        "id": "ff0a8e98"
      },
      "source": [
        "# <font color='magenta'>Python practice</font>"
      ]
    },
    {
      "cell_type": "markdown",
      "id": "914d9688",
      "metadata": {
        "id": "914d9688"
      },
      "source": [
        "These are some standard includes."
      ]
    },
    {
      "cell_type": "code",
      "execution_count": 1,
      "id": "f7070506",
      "metadata": {
        "id": "f7070506"
      },
      "outputs": [],
      "source": [
        "%matplotlib inline\n",
        "import numpy as np\n",
        "import matplotlib.pyplot as plt"
      ]
    },
    {
      "cell_type": "markdown",
      "id": "c164b205",
      "metadata": {
        "id": "c164b205"
      },
      "source": [
        "## <font color='blue'>NumPy array basics</font>"
      ]
    },
    {
      "cell_type": "markdown",
      "id": "b49c8524",
      "metadata": {
        "id": "b49c8524"
      },
      "source": [
        "The `len` function finds the length of a list."
      ]
    },
    {
      "cell_type": "code",
      "execution_count": 2,
      "id": "6090691c",
      "metadata": {
        "colab": {
          "base_uri": "https://localhost:8080/"
        },
        "id": "6090691c",
        "outputId": "75f0bb2c-9fc0-457a-aee4-8f65233efafa"
      },
      "outputs": [
        {
          "output_type": "stream",
          "name": "stdout",
          "text": [
            "this\n",
            "is\n",
            "a\n",
            "short\n",
            "sentence\n",
            "Length = 5\n"
          ]
        }
      ],
      "source": [
        "L = ['this', 'is', 'a', 'short', 'sentence']\n",
        "n = len(L) # length of list\n",
        "for i in range(n):\n",
        "    print(L[i])\n",
        "print(\"Length = \" + str(n))"
      ]
    },
    {
      "cell_type": "markdown",
      "id": "32488f01",
      "metadata": {
        "id": "32488f01"
      },
      "source": [
        "This next piece of code casts a list of 8 elements into a NumPy array and then reshapes it into a 2-by-4 array. Notice the use of `shape` to determine the dimensions of the array."
      ]
    },
    {
      "cell_type": "code",
      "execution_count": 3,
      "id": "f174b7c8",
      "metadata": {
        "colab": {
          "base_uri": "https://localhost:8080/"
        },
        "id": "f174b7c8",
        "outputId": "83ac2796-767a-49d5-8140-1bec6e64c5a4"
      },
      "outputs": [
        {
          "output_type": "stream",
          "name": "stdout",
          "text": [
            "M has size 2-by-4\n",
            "[[1 2 3 4]\n",
            " [5 6 7 8]]\n"
          ]
        }
      ],
      "source": [
        "L = np.array([1,2,3,4,5,6,7,8])\n",
        "M = L.reshape((2,4))\n",
        "r,c = M.shape\n",
        "print(\"M has size %d-by-%d\" % (r,c))\n",
        "print(M)"
      ]
    },
    {
      "cell_type": "markdown",
      "id": "41c16b3a",
      "metadata": {
        "id": "41c16b3a"
      },
      "source": [
        "The following code defines a list `M` of 6 tuples. <font color='magenta'>To do: Convert this into a 3-by-4 NumPy array.</font>"
      ]
    },
    {
      "cell_type": "code",
      "execution_count": 25,
      "id": "ea4ff359",
      "metadata": {
        "id": "ea4ff359"
      },
      "outputs": [],
      "source": [
        "M = [[1,2], [3,4], [5,6], [7,8], [9,10], [11,12]]\n",
        "# M = np.array([[1,2], [3,4], [5,6], [7,8], [9,10], [11,12]])\n",
        "# then N = M.reshape((3,4)) OR"
      ]
    },
    {
      "cell_type": "code",
      "source": [
        "N = np.array(M).reshape((3,4))\n",
        "r,c = N.shape\n",
        "print(\"N has size %d-by-%d\" % (r,c))\n",
        "print(N)"
      ],
      "metadata": {
        "colab": {
          "base_uri": "https://localhost:8080/"
        },
        "id": "XNSN5EjYI-F6",
        "outputId": "15ef47ba-2954-48c9-d471-546d83bec924"
      },
      "id": "XNSN5EjYI-F6",
      "execution_count": 26,
      "outputs": [
        {
          "output_type": "stream",
          "name": "stdout",
          "text": [
            "N has size 3-by-4\n",
            "[[ 1  2  3  4]\n",
            " [ 5  6  7  8]\n",
            " [ 9 10 11 12]]\n"
          ]
        }
      ]
    },
    {
      "cell_type": "markdown",
      "id": "8fe05317",
      "metadata": {
        "id": "8fe05317"
      },
      "source": [
        "It is often useful to define NumPy arrays using the `np.zeros`, `np.ones`, `np.eye` or `np.diag` methods. Here are examples."
      ]
    },
    {
      "cell_type": "code",
      "execution_count": 5,
      "id": "fbb6dae1",
      "metadata": {
        "colab": {
          "base_uri": "https://localhost:8080/"
        },
        "id": "fbb6dae1",
        "outputId": "2d99991d-f7e6-4f2e-cc89-e1bb9da0c5b7"
      },
      "outputs": [
        {
          "output_type": "stream",
          "name": "stdout",
          "text": [
            "[[0. 0. 0. 0. 0. 0.]\n",
            " [0. 0. 0. 0. 0. 0.]\n",
            " [0. 0. 0. 0. 0. 0.]]\n"
          ]
        }
      ],
      "source": [
        "A = np.zeros((3,6))\n",
        "print(A)"
      ]
    },
    {
      "cell_type": "code",
      "execution_count": 6,
      "id": "d111f99a",
      "metadata": {
        "colab": {
          "base_uri": "https://localhost:8080/"
        },
        "id": "d111f99a",
        "outputId": "ebe318c1-1633-4d7a-b2f0-371e2bcbb09a"
      },
      "outputs": [
        {
          "output_type": "stream",
          "name": "stdout",
          "text": [
            "[[1. 1. 1.]\n",
            " [1. 1. 1.]]\n"
          ]
        }
      ],
      "source": [
        "B = np.ones((2,3))\n",
        "print(B)"
      ]
    },
    {
      "cell_type": "code",
      "execution_count": 7,
      "id": "8ab7c77e",
      "metadata": {
        "colab": {
          "base_uri": "https://localhost:8080/"
        },
        "id": "8ab7c77e",
        "outputId": "fd34e521-e86e-4d6c-944e-0e4bb5fd8d85"
      },
      "outputs": [
        {
          "output_type": "stream",
          "name": "stdout",
          "text": [
            "[[1. 0. 0.]\n",
            " [0. 1. 0.]\n",
            " [0. 0. 1.]]\n"
          ]
        }
      ],
      "source": [
        "C = np.eye(3)\n",
        "print(C)"
      ]
    },
    {
      "cell_type": "code",
      "execution_count": 8,
      "id": "1c7bcf6c",
      "metadata": {
        "colab": {
          "base_uri": "https://localhost:8080/"
        },
        "id": "1c7bcf6c",
        "outputId": "001f244d-966d-456b-a546-5d48f7d6e4a3"
      },
      "outputs": [
        {
          "output_type": "stream",
          "name": "stdout",
          "text": [
            "[[10  0  0]\n",
            " [ 0  9  0]\n",
            " [ 0  0  8]]\n"
          ]
        }
      ],
      "source": [
        "L = np.array([10, 9, 8])\n",
        "D = np.diag(L)\n",
        "print(D)"
      ]
    },
    {
      "cell_type": "markdown",
      "id": "52e70159",
      "metadata": {
        "id": "52e70159"
      },
      "source": [
        "The following code iterates through the array `D` above and prints out each element."
      ]
    },
    {
      "cell_type": "code",
      "execution_count": 9,
      "id": "ddbb045d",
      "metadata": {
        "colab": {
          "base_uri": "https://localhost:8080/"
        },
        "id": "ddbb045d",
        "outputId": "1e1cf520-0579-40f0-b39d-0ae0ec41cd78"
      },
      "outputs": [
        {
          "output_type": "stream",
          "name": "stdout",
          "text": [
            "(0,0) entry is 10\n",
            "(0,1) entry is 0\n",
            "(0,2) entry is 0\n",
            "(1,0) entry is 0\n",
            "(1,1) entry is 9\n",
            "(1,2) entry is 0\n",
            "(2,0) entry is 0\n",
            "(2,1) entry is 0\n",
            "(2,2) entry is 8\n"
          ]
        }
      ],
      "source": [
        "for i in range(len(L)):\n",
        "    for j in range(len(L)):\n",
        "        print(\"(%d,%d) entry is %d\" % (i,j,D[i,j]))"
      ]
    },
    {
      "cell_type": "markdown",
      "id": "137dc420",
      "metadata": {
        "id": "137dc420"
      },
      "source": [
        "[link text](https://)<font color='magenta'>To do: Define a 5-by-6 NumPy array whose `(i,j)` element is `i+j`. Here `i`, `j` begin at 0. Print out the array.</font>"
      ]
    },
    {
      "cell_type": "code",
      "execution_count": 27,
      "id": "cab8124e",
      "metadata": {
        "colab": {
          "base_uri": "https://localhost:8080/"
        },
        "id": "cab8124e",
        "outputId": "0f3e296a-c0e8-4811-bc5a-588925b9d756"
      },
      "outputs": [
        {
          "output_type": "stream",
          "name": "stdout",
          "text": [
            "[[0 1 2 3 4 5]\n",
            " [1 2 3 4 5 6]\n",
            " [2 3 4 5 6 7]\n",
            " [3 4 5 6 7 8]\n",
            " [4 5 6 7 8 9]]\n"
          ]
        }
      ],
      "source": [
        "D = np.fromfunction(lambda i, j: i + j, (5, 6), dtype=int)\n",
        "\n",
        "print(D)"
      ]
    },
    {
      "cell_type": "markdown",
      "id": "8ca229d6",
      "metadata": {
        "id": "8ca229d6"
      },
      "source": [
        "## <font color='blue'>Slicing arrays</font>"
      ]
    },
    {
      "cell_type": "markdown",
      "id": "1d811ea3",
      "metadata": {
        "id": "1d811ea3"
      },
      "source": [
        "Let's define a 5-by-7 array filled with random integers. We will use one of the many helpful methods in `np.random`."
      ]
    },
    {
      "cell_type": "code",
      "execution_count": 30,
      "id": "ddadac7c",
      "metadata": {
        "colab": {
          "base_uri": "https://localhost:8080/"
        },
        "id": "ddadac7c",
        "outputId": "d0ad8807-0eec-4df9-a5ae-b5e5ee163899"
      },
      "outputs": [
        {
          "output_type": "execute_result",
          "data": {
            "text/plain": [
              "(5, 7)"
            ]
          },
          "metadata": {},
          "execution_count": 30
        }
      ],
      "source": [
        "M = np.random.randint(1,10,size=(5,7))\n",
        "M.shape"
      ]
    },
    {
      "cell_type": "markdown",
      "id": "92a51e6b",
      "metadata": {
        "id": "92a51e6b"
      },
      "source": [
        "Now let's pull out the 2nd row and 3 column of M. Remember Python's zero-indexing."
      ]
    },
    {
      "cell_type": "code",
      "execution_count": 31,
      "id": "05860b16",
      "metadata": {
        "colab": {
          "base_uri": "https://localhost:8080/"
        },
        "id": "05860b16",
        "outputId": "2ed09b19-c806-4ddb-a237-5a7a856b1830"
      },
      "outputs": [
        {
          "output_type": "stream",
          "name": "stdout",
          "text": [
            "Here is matrix M\n",
            "[[3 7 6 8 2 8 2]\n",
            " [5 4 6 3 1 7 2]\n",
            " [2 7 6 4 7 2 5]\n",
            " [9 7 6 2 4 5 7]\n",
            " [4 5 5 1 6 8 3]]\n",
            "Its 2nd row is\n",
            "[5 4 6 3 1 7 2]\n",
            "Its 3rd column is\n",
            "[6 6 6 6 5]\n"
          ]
        }
      ],
      "source": [
        "print(\"Here is matrix M\")\n",
        "print(M)\n",
        "print(\"Its 2nd row is\")\n",
        "print(M[1,:])\n",
        "print(\"Its 3rd column is\")\n",
        "print(M[:,2])"
      ]
    },
    {
      "cell_type": "markdown",
      "id": "0f617749",
      "metadata": {
        "id": "0f617749"
      },
      "source": [
        "Now let's pull out rows 2 and 4. Here we begin by defining a list that contains exactly the target row indices."
      ]
    },
    {
      "cell_type": "code",
      "execution_count": 32,
      "id": "ae37afb6",
      "metadata": {
        "colab": {
          "base_uri": "https://localhost:8080/"
        },
        "id": "ae37afb6",
        "outputId": "8f02d2dd-f003-42dd-fbea-f91b2d6ad815"
      },
      "outputs": [
        {
          "output_type": "stream",
          "name": "stdout",
          "text": [
            "[[5 4 6 3 1 7 2]\n",
            " [9 7 6 2 4 5 7]]\n"
          ]
        }
      ],
      "source": [
        "I = [1,3]\n",
        "print(M[I,:])"
      ]
    },
    {
      "cell_type": "markdown",
      "id": "1e1bd584",
      "metadata": {
        "id": "1e1bd584"
      },
      "source": [
        "<font color='magenta'>Do something similar to print out the 3rd and 5th columns of `M`.</font>"
      ]
    },
    {
      "cell_type": "code",
      "execution_count": 33,
      "id": "ee6fbf07",
      "metadata": {
        "colab": {
          "base_uri": "https://localhost:8080/"
        },
        "id": "ee6fbf07",
        "outputId": "dfcf67f2-199a-457c-bf50-220c4358750a"
      },
      "outputs": [
        {
          "output_type": "stream",
          "name": "stdout",
          "text": [
            "[[2 7 6 4 7 2 5]\n",
            " [4 5 5 1 6 8 3]]\n"
          ]
        }
      ],
      "source": [
        "I = [2,4]\n",
        "print(M[I,:])"
      ]
    },
    {
      "cell_type": "markdown",
      "id": "135e0fe2",
      "metadata": {
        "id": "135e0fe2"
      },
      "source": [
        "Now let's say we want the subarray of `M` with the 2nd to 5th rows and the 4nd to 6th columns. Here's how we do it. We are going to call this subarray `S`. Pulling out subarrays is called \"slicing\"; when dealing with data, this is a really important operation."
      ]
    },
    {
      "cell_type": "code",
      "execution_count": 34,
      "id": "00d8cf83",
      "metadata": {
        "colab": {
          "base_uri": "https://localhost:8080/"
        },
        "id": "00d8cf83",
        "outputId": "1e1fc7f6-1c54-41e7-f515-565d2530d045"
      },
      "outputs": [
        {
          "output_type": "stream",
          "name": "stdout",
          "text": [
            "[[3 1 7]\n",
            " [4 7 2]\n",
            " [2 4 5]\n",
            " [1 6 8]]\n"
          ]
        }
      ],
      "source": [
        "S = M[1:5,3:6]\n",
        "print(S)"
      ]
    },
    {
      "cell_type": "markdown",
      "id": "aa332a31",
      "metadata": {
        "id": "aa332a31"
      },
      "source": [
        "Now pull out the submatrix of `M` consisting of its 2nd and 5th rows and its 1st, 2nd, and 4th columns. Call it `T`. It should have size 2-by-3. Start by defining lists containing the target row and target column indices."
      ]
    },
    {
      "cell_type": "code",
      "execution_count": 35,
      "id": "2064377b",
      "metadata": {
        "colab": {
          "base_uri": "https://localhost:8080/"
        },
        "id": "2064377b",
        "outputId": "02418433-ad0c-4ee5-e868-db66244cede9"
      },
      "outputs": [
        {
          "output_type": "stream",
          "name": "stdout",
          "text": [
            "[[5 4 3]\n",
            " [4 5 1]]\n"
          ]
        }
      ],
      "source": [
        "I = [1,4]\n",
        "J = [0,1,3]\n",
        "T = M[I,:][:,J]\n",
        "print(T)"
      ]
    },
    {
      "cell_type": "markdown",
      "id": "464597e5",
      "metadata": {
        "id": "464597e5"
      },
      "source": [
        "<font color='magenta'>To do: You can find the transpose of a matrix using np.transpose. But for the time being, write your own nested loop to find the transpose of `T`. Call the result R.</font>"
      ]
    },
    {
      "cell_type": "code",
      "execution_count": 38,
      "id": "1433bbed",
      "metadata": {
        "colab": {
          "base_uri": "https://localhost:8080/"
        },
        "id": "1433bbed",
        "outputId": "0c75ddab-c75c-4e10-b45a-e4c5958f0233"
      },
      "outputs": [
        {
          "output_type": "stream",
          "name": "stdout",
          "text": [
            "\n",
            "Transpose R:\n",
            "[[5 4]\n",
            " [4 5]\n",
            " [3 1]]\n"
          ]
        }
      ],
      "source": [
        "rows, cols = T.shape\n",
        "R = np.zeros((cols, rows), dtype=int)\n",
        "\n",
        "for i in range(rows):\n",
        "    for j in range(cols):\n",
        "        R[j, i] = T[i, j]\n",
        "\n",
        "print(\"\\nTranspose R:\")\n",
        "print(R)"
      ]
    },
    {
      "cell_type": "markdown",
      "id": "16ed42f5",
      "metadata": {
        "id": "16ed42f5"
      },
      "source": [
        "## <font color='blue'>Reading and plotting data</font>"
      ]
    },
    {
      "cell_type": "markdown",
      "id": "06566740",
      "metadata": {
        "id": "06566740"
      },
      "source": [
        "The file `data1.txt` contains a data set of 76 points. Each row is of the form `(x1, x2, y)`, where `x = (x1,x2)` is a two-dimensional data point and `y` is its label."
      ]
    },
    {
      "cell_type": "code",
      "execution_count": 16,
      "id": "04a35c97",
      "metadata": {
        "colab": {
          "base_uri": "https://localhost:8080/"
        },
        "id": "04a35c97",
        "outputId": "73df9bd5-eb9d-4eca-b440-84d74f588077"
      },
      "outputs": [
        {
          "output_type": "stream",
          "name": "stdout",
          "text": [
            "(76, 3)\n"
          ]
        }
      ],
      "source": [
        "data = np.loadtxt('/content/sample_data/data1.txt')\n",
        "print(data.shape)"
      ]
    },
    {
      "cell_type": "markdown",
      "id": "5a366c24",
      "metadata": {
        "id": "5a366c24"
      },
      "source": [
        "<font color='magenta'>To do: Create an array `X` of size 76-by-2 that contains one data point per row. Create an array `y` of size 76-by-1 that contains just the labels. You can get these by applying slicing operations to `data`.</font>"
      ]
    },
    {
      "cell_type": "code",
      "execution_count": 41,
      "id": "aee7b139",
      "metadata": {
        "id": "aee7b139"
      },
      "outputs": [],
      "source": [
        "X = data[:, :2]\n",
        "y = data[:,-1]"
      ]
    },
    {
      "cell_type": "markdown",
      "id": "82163f77",
      "metadata": {
        "id": "82163f77"
      },
      "source": [
        "Let's check that `X` and `y` have the right dimensions."
      ]
    },
    {
      "cell_type": "code",
      "execution_count": 42,
      "id": "b6d2dd62",
      "metadata": {
        "colab": {
          "base_uri": "https://localhost:8080/"
        },
        "id": "b6d2dd62",
        "outputId": "39834856-e5d8-4f1b-c8a4-39590e8a7e9b"
      },
      "outputs": [
        {
          "output_type": "execute_result",
          "data": {
            "text/plain": [
              "((76, 2), (76,))"
            ]
          },
          "metadata": {},
          "execution_count": 42
        }
      ],
      "source": [
        "X.shape, y.shape"
      ]
    },
    {
      "cell_type": "markdown",
      "id": "51322ed0",
      "metadata": {
        "id": "51322ed0"
      },
      "source": [
        "Let's print out the first ten data points."
      ]
    },
    {
      "cell_type": "code",
      "execution_count": 43,
      "id": "bce17931",
      "metadata": {
        "colab": {
          "base_uri": "https://localhost:8080/"
        },
        "id": "bce17931",
        "outputId": "04d2185e-3706-41c3-ec02-e3f2a91d92e1"
      },
      "outputs": [
        {
          "output_type": "execute_result",
          "data": {
            "text/plain": [
              "array([[ 1.,  1.],\n",
              "       [ 2.,  1.],\n",
              "       [ 3.,  1.],\n",
              "       [ 4.,  1.],\n",
              "       [ 5.,  1.],\n",
              "       [ 6.,  1.],\n",
              "       [ 7.,  1.],\n",
              "       [ 8.,  1.],\n",
              "       [ 9.,  1.],\n",
              "       [10.,  1.]])"
            ]
          },
          "metadata": {},
          "execution_count": 43
        }
      ],
      "source": [
        "X[:10,:]"
      ]
    },
    {
      "cell_type": "markdown",
      "id": "a2e085b2",
      "metadata": {
        "id": "a2e085b2"
      },
      "source": [
        "And the last ten data points. Note the negative indexing."
      ]
    },
    {
      "cell_type": "code",
      "execution_count": 44,
      "id": "e909f63b",
      "metadata": {
        "colab": {
          "base_uri": "https://localhost:8080/"
        },
        "id": "e909f63b",
        "outputId": "b0d2d8a7-a591-489f-9460-f19aa594b205"
      },
      "outputs": [
        {
          "output_type": "execute_result",
          "data": {
            "text/plain": [
              "array([[ 9.,  6.],\n",
              "       [ 9.,  7.],\n",
              "       [ 9.,  8.],\n",
              "       [ 9.,  9.],\n",
              "       [ 9., 10.],\n",
              "       [10.,  6.],\n",
              "       [10.,  7.],\n",
              "       [10.,  8.],\n",
              "       [10.,  9.],\n",
              "       [10., 10.]])"
            ]
          },
          "metadata": {},
          "execution_count": 44
        }
      ],
      "source": [
        "X[-10:,:]"
      ]
    },
    {
      "cell_type": "markdown",
      "id": "7c07fddf",
      "metadata": {
        "id": "7c07fddf"
      },
      "source": [
        "Now let's identify the indices of points with label 1."
      ]
    },
    {
      "cell_type": "code",
      "execution_count": 45,
      "id": "2a224673",
      "metadata": {
        "colab": {
          "base_uri": "https://localhost:8080/"
        },
        "id": "2a224673",
        "outputId": "d80125b6-6b33-4f1a-85dc-c63fe431fe64"
      },
      "outputs": [
        {
          "output_type": "execute_result",
          "data": {
            "text/plain": [
              "array([ True,  True,  True,  True,  True,  True,  True,  True,  True,\n",
              "        True,  True,  True,  True,  True,  True,  True,  True,  True,\n",
              "        True,  True,  True,  True,  True,  True,  True,  True,  True,\n",
              "        True,  True,  True,  True,  True,  True,  True,  True,  True,\n",
              "        True,  True,  True,  True,  True,  True,  True,  True,  True,\n",
              "        True,  True,  True,  True,  True,  True, False, False, False,\n",
              "       False, False, False, False, False, False, False, False, False,\n",
              "       False, False, False, False, False, False, False, False, False,\n",
              "       False, False, False, False])"
            ]
          },
          "metadata": {},
          "execution_count": 45
        }
      ],
      "source": [
        "y==1"
      ]
    },
    {
      "cell_type": "markdown",
      "id": "b84c97cc",
      "metadata": {
        "id": "b84c97cc"
      },
      "source": [
        "And let's print out those points."
      ]
    },
    {
      "cell_type": "code",
      "execution_count": 46,
      "id": "00eeb2b5",
      "metadata": {
        "colab": {
          "base_uri": "https://localhost:8080/"
        },
        "id": "00eeb2b5",
        "outputId": "c152d0d3-8fb1-4d81-94f3-bd0c6710fc79"
      },
      "outputs": [
        {
          "output_type": "execute_result",
          "data": {
            "text/plain": [
              "array([[ 1.,  1.],\n",
              "       [ 2.,  1.],\n",
              "       [ 3.,  1.],\n",
              "       [ 4.,  1.],\n",
              "       [ 5.,  1.],\n",
              "       [ 6.,  1.],\n",
              "       [ 7.,  1.],\n",
              "       [ 8.,  1.],\n",
              "       [ 9.,  1.],\n",
              "       [10.,  1.],\n",
              "       [ 1.,  2.],\n",
              "       [ 2.,  2.],\n",
              "       [ 3.,  2.],\n",
              "       [ 4.,  2.],\n",
              "       [ 5.,  2.],\n",
              "       [ 6.,  2.],\n",
              "       [ 7.,  2.],\n",
              "       [ 8.,  2.],\n",
              "       [ 9.,  2.],\n",
              "       [10.,  2.],\n",
              "       [ 1.,  3.],\n",
              "       [ 2.,  3.],\n",
              "       [ 3.,  3.],\n",
              "       [ 4.,  3.],\n",
              "       [ 5.,  3.],\n",
              "       [ 6.,  3.],\n",
              "       [ 7.,  3.],\n",
              "       [ 8.,  3.],\n",
              "       [ 9.,  3.],\n",
              "       [10.,  3.],\n",
              "       [ 1.,  4.],\n",
              "       [ 2.,  4.],\n",
              "       [ 3.,  4.],\n",
              "       [ 1.,  5.],\n",
              "       [ 2.,  5.],\n",
              "       [ 3.,  5.],\n",
              "       [ 1.,  6.],\n",
              "       [ 2.,  6.],\n",
              "       [ 3.,  6.],\n",
              "       [ 1.,  7.],\n",
              "       [ 2.,  7.],\n",
              "       [ 3.,  7.],\n",
              "       [ 1.,  8.],\n",
              "       [ 2.,  8.],\n",
              "       [ 3.,  8.],\n",
              "       [ 1.,  9.],\n",
              "       [ 2.,  9.],\n",
              "       [ 3.,  9.],\n",
              "       [ 1., 10.],\n",
              "       [ 2., 10.],\n",
              "       [ 3., 10.]])"
            ]
          },
          "metadata": {},
          "execution_count": 46
        }
      ],
      "source": [
        "X[y==1,:]"
      ]
    },
    {
      "cell_type": "markdown",
      "id": "09551a92",
      "metadata": {
        "id": "09551a92"
      },
      "source": [
        "Now let's plot the data points `X`."
      ]
    },
    {
      "cell_type": "code",
      "execution_count": 47,
      "id": "7f3171c9",
      "metadata": {
        "colab": {
          "base_uri": "https://localhost:8080/",
          "height": 478
        },
        "id": "7f3171c9",
        "outputId": "29fd21ec-a87d-4e7a-be6e-6483055aa26b"
      },
      "outputs": [
        {
          "output_type": "display_data",
          "data": {
            "text/plain": [
              "<Figure size 640x480 with 1 Axes>"
            ],
            "image/png": "[encoded data removed]"
          },
          "metadata": {}
        }
      ],
      "source": [
        "plt.plot(X[:,0], X[:,1] ,'o', color='black')\n",
        "plt.title('A two-dimensional data set', fontsize=14, color='red')\n",
        "plt.xlabel('x1', fontsize=14, color='blue')\n",
        "plt.ylabel('x2', fontsize=14, color='blue')\n",
        "plt.show()"
      ]
    },
    {
      "cell_type": "markdown",
      "id": "581a03c8",
      "metadata": {
        "id": "581a03c8"
      },
      "source": [
        "<font color='magenta'>To do: Plot the points again, this time showing the points with label +1 in red and the points with label -1 in blue. You might find it useful to compute `I = (y==1)` and `J = (y==-1)`; these identify the indices of the +1 and -1 points, and can be used for subsequent slicing.</font>"
      ]
    },
    {
      "cell_type": "code",
      "source": [
        "I = (y==1)\n",
        "J = (y==-1)\n",
        "plt.scatter(X[I, 0], X[I, 1], color='red', label='+1')\n",
        "plt.scatter(X[J, 0], X[J, 1], color='blue', label='-1')\n",
        "plt.title('A two-dimensional data set', fontsize=14, color='red')\n",
        "plt.xlabel('x1', fontsize=14, color='blue')\n",
        "plt.ylabel('x2', fontsize=14, color='blue')\n",
        "plt.legend(loc='upper left', bbox_to_anchor=(1, 1))\n",
        "plt.show()"
      ],
      "metadata": {
        "colab": {
          "base_uri": "https://localhost:8080/",
          "height": 478
        },
        "id": "uva2zasbSBWJ",
        "outputId": "1e4591eb-7af4-4c2c-a00d-6582b37092de"
      },
      "id": "uva2zasbSBWJ",
      "execution_count": 54,
      "outputs": [
        {
          "output_type": "display_data",
          "data": {
            "text/plain": [
              "<Figure size 640x480 with 1 Axes>"
            ],
            "image/png": "[encoded data removed]"
          },
          "metadata": {}
        }
      ]
    },
    {
      "cell_type": "markdown",
      "id": "546937d6",
      "metadata": {
        "id": "546937d6"
      },
      "source": [
        "## <font color='blue'>Many ways to iterate</font>"
      ]
    },
    {
      "cell_type": "markdown",
      "id": "063be312",
      "metadata": {
        "id": "063be312"
      },
      "source": [
        "Let's compute the squared norm of a particular vector v. We start by defining the vector."
      ]
    },
    {
      "cell_type": "code",
      "execution_count": 55,
      "id": "6259432e",
      "metadata": {
        "colab": {
          "base_uri": "https://localhost:8080/"
        },
        "id": "6259432e",
        "outputId": "4226afa0-f78d-4bfa-d53c-b95c71146e46"
      },
      "outputs": [
        {
          "output_type": "stream",
          "name": "stdout",
          "text": [
            "[ 1  2  3  4  5  6  7  8  9 10]\n"
          ]
        }
      ],
      "source": [
        "v = np.array(range(1,11))\n",
        "print(v)"
      ]
    },
    {
      "cell_type": "markdown",
      "id": "51112b60",
      "metadata": {
        "id": "51112b60"
      },
      "source": [
        "Here's the traditional approach"
      ]
    },
    {
      "cell_type": "code",
      "execution_count": 56,
      "id": "2f4e3e2b",
      "metadata": {
        "colab": {
          "base_uri": "https://localhost:8080/"
        },
        "id": "2f4e3e2b",
        "outputId": "ca98c4c1-13d1-42a5-bff1-49f12368bbec"
      },
      "outputs": [
        {
          "output_type": "stream",
          "name": "stdout",
          "text": [
            "385\n"
          ]
        }
      ],
      "source": [
        "sum = 0\n",
        "for i in range(len(v)):\n",
        "    sum = sum + v[i]*v[i]\n",
        "print(sum)"
      ]
    },
    {
      "cell_type": "markdown",
      "id": "7c3c99aa",
      "metadata": {
        "id": "7c3c99aa"
      },
      "source": [
        "We can also use the list iterator `for x in v` which loops through the list and assigns `x` to the current item."
      ]
    },
    {
      "cell_type": "code",
      "execution_count": 57,
      "id": "6d5b230e",
      "metadata": {
        "colab": {
          "base_uri": "https://localhost:8080/"
        },
        "id": "6d5b230e",
        "outputId": "95fd27f2-2c7c-411f-8141-92c0becb62ea"
      },
      "outputs": [
        {
          "output_type": "stream",
          "name": "stdout",
          "text": [
            "385\n"
          ]
        }
      ],
      "source": [
        "sum = 0\n",
        "for x in v:\n",
        "    sum = sum + x*x\n",
        "print(sum)"
      ]
    },
    {
      "cell_type": "markdown",
      "id": "068aeeed",
      "metadata": {
        "id": "068aeeed"
      },
      "source": [
        "Python also offers \"list comprehension\". In the code below, `[x*x for x in v]` produces a list containing the square of each element of `v`. We've also called `np.sum`, which adds up the elements in a list."
      ]
    },
    {
      "cell_type": "code",
      "execution_count": 58,
      "id": "27b501ca",
      "metadata": {
        "colab": {
          "base_uri": "https://localhost:8080/"
        },
        "id": "27b501ca",
        "outputId": "2909b1ac-634f-43ea-dd07-8f052e5508de"
      },
      "outputs": [
        {
          "output_type": "execute_result",
          "data": {
            "text/plain": [
              "385"
            ]
          },
          "metadata": {},
          "execution_count": 58
        }
      ],
      "source": [
        "np.sum([x*x for x in v])"
      ]
    },
    {
      "cell_type": "markdown",
      "id": "6cb6b10b",
      "metadata": {
        "id": "6cb6b10b"
      },
      "source": [
        "In fact, there is another specialized method, `np.square`, that squares all elements in a list."
      ]
    },
    {
      "cell_type": "code",
      "execution_count": 59,
      "id": "5fdcd647",
      "metadata": {
        "colab": {
          "base_uri": "https://localhost:8080/"
        },
        "id": "5fdcd647",
        "outputId": "49ad7f64-ce9c-41f3-9e46-e1231136a387"
      },
      "outputs": [
        {
          "output_type": "execute_result",
          "data": {
            "text/plain": [
              "385"
            ]
          },
          "metadata": {},
          "execution_count": 59
        }
      ],
      "source": [
        "np.sum(np.square(v))"
      ]
    },
    {
      "cell_type": "markdown",
      "id": "ad018da0",
      "metadata": {
        "id": "ad018da0"
      },
      "source": [
        "The `np.linalg` module also contains a function `norm` that explicitly computes the Euclidean norm of a vector; we can just square the result."
      ]
    },
    {
      "cell_type": "code",
      "execution_count": 60,
      "id": "08790225",
      "metadata": {
        "colab": {
          "base_uri": "https://localhost:8080/"
        },
        "id": "08790225",
        "outputId": "5fead667-8579-4d18-f222-85d8dc6ad81a"
      },
      "outputs": [
        {
          "output_type": "execute_result",
          "data": {
            "text/plain": [
              "384.99999999999994"
            ]
          },
          "metadata": {},
          "execution_count": 60
        }
      ],
      "source": [
        "np.linalg.norm(v)**2"
      ]
    },
    {
      "cell_type": "code",
      "source": [],
      "metadata": {
        "id": "a-WaIBK2T_sX"
      },
      "id": "a-WaIBK2T_sX",
      "execution_count": null,
      "outputs": []
    }
  ],
  "metadata": {
    "kernelspec": {
      "display_name": "Python 3 (ipykernel)",
      "language": "python",
      "name": "python3"
    },
    "language_info": {
      "codemirror_mode": {
        "name": "ipython",
        "version": 3
      },
      "file_extension": ".py",
      "mimetype": "text/x-python",
      "name": "python",
      "nbconvert_exporter": "python",
      "pygments_lexer": "ipython3",
      "version": "3.10.9"
    },
    "colab": {
      "provenance": []
    }
  },
  "nbformat": 4,
  "nbformat_minor": 5
}